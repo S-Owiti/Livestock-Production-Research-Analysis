{
 "cells": [
  {
   "cell_type": "code",
   "execution_count": 1,
   "id": "d4d65bf2-e30e-4be7-9812-d20404fc5d63",
   "metadata": {},
   "outputs": [
    {
     "name": "stdout",
     "output_type": "stream",
     "text": [
      "Requirement already satisfied: thefuzz in c:\\users\\owinyez\\anaconda3\\lib\\site-packages (0.22.1)\n",
      "Requirement already satisfied: rapidfuzz<4.0.0,>=3.0.0 in c:\\users\\owinyez\\anaconda3\\lib\\site-packages (from thefuzz) (3.11.0)\n"
     ]
    }
   ],
   "source": [
    "!pip install thefuzz"
   ]
  },
  {
   "cell_type": "code",
   "execution_count": 2,
   "id": "c980e4fd-a980-41b1-bba9-1f8ff8296973",
   "metadata": {},
   "outputs": [
    {
     "name": "stdout",
     "output_type": "stream",
     "text": [
      "Requirement already satisfied: python-Levenshtein in c:\\users\\owinyez\\anaconda3\\lib\\site-packages (0.26.1)\n",
      "Requirement already satisfied: Levenshtein==0.26.1 in c:\\users\\owinyez\\anaconda3\\lib\\site-packages (from python-Levenshtein) (0.26.1)\n",
      "Requirement already satisfied: rapidfuzz<4.0.0,>=3.9.0 in c:\\users\\owinyez\\anaconda3\\lib\\site-packages (from Levenshtein==0.26.1->python-Levenshtein) (3.11.0)\n"
     ]
    }
   ],
   "source": [
    "!pip install python-Levenshtein"
   ]
  },
  {
   "cell_type": "code",
   "execution_count": 3,
   "id": "4ff8c07c-1c40-4628-87bb-4756ec7c6496",
   "metadata": {},
   "outputs": [
    {
     "name": "stdout",
     "output_type": "stream",
     "text": [
      "Requirement already satisfied: kneed in c:\\users\\owinyez\\anaconda3\\lib\\site-packages (0.8.5)\n",
      "Requirement already satisfied: scipy>=1.0.0 in c:\\users\\owinyez\\anaconda3\\lib\\site-packages (from kneed) (1.10.0)\n",
      "Requirement already satisfied: numpy>=1.14.2 in c:\\users\\owinyez\\anaconda3\\lib\\site-packages (from kneed) (1.23.5)\n"
     ]
    }
   ],
   "source": [
    "!pip install kneed"
   ]
  },
  {
   "cell_type": "code",
   "execution_count": 4,
   "id": "1df7a7ad-e713-4525-be1b-51fb3cc85404",
   "metadata": {},
   "outputs": [],
   "source": [
    "# import libraries\n",
    "import pandas as pd\n",
    "import numpy as np\n",
    "import matplotlib.pyplot as plt\n",
    "import seaborn as sns\n",
    "import plotly.express as px\n",
    "from datetime import datetime\n",
    "from thefuzz import process, fuzz\n",
    "from collections import defaultdict\n",
    "from kneed import KneeLocator\n",
    "from dateutil.relativedelta import relativedelta\n",
    "from sklearn.model_selection import train_test_split, GridSearchCV, StratifiedKFold\n",
    "from sklearn.preprocessing import MinMaxScaler, StandardScaler, RobustScaler\n",
    "from sklearn.ensemble import RandomForestClassifier, GradientBoostingClassifier\n",
    "from sklearn.metrics import classification_report, confusion_matrix, roc_curve, auc\n",
    "from sklearn.impute import KNNImputer\n",
    "from sklearn.metrics.pairwise import cosine_similarity\n",
    "from imblearn.over_sampling import SMOTE\n",
    "from imblearn.pipeline import Pipeline\n",
    "import warnings\n",
    "import joblib\n",
    "warnings.filterwarnings('ignore')"
   ]
  },
  {
   "cell_type": "markdown",
   "id": "23db4b7f-94d4-45b3-a846-a00bfb78113e",
   "metadata": {},
   "source": [
    "1. Data Preprocessing"
   ]
  },
  {
   "cell_type": "code",
   "execution_count": 6,
   "id": "43a425b1-72c8-4c61-9a5e-f485203cd1a8",
   "metadata": {},
   "outputs": [
    {
     "data": {
      "text/html": [
       "<div>\n",
       "<style scoped>\n",
       "    .dataframe tbody tr th:only-of-type {\n",
       "        vertical-align: middle;\n",
       "    }\n",
       "\n",
       "    .dataframe tbody tr th {\n",
       "        vertical-align: top;\n",
       "    }\n",
       "\n",
       "    .dataframe thead th {\n",
       "        text-align: right;\n",
       "    }\n",
       "</style>\n",
       "<table border=\"1\" class=\"dataframe\">\n",
       "  <thead>\n",
       "    <tr style=\"text-align: right;\">\n",
       "      <th></th>\n",
       "      <th>Domain Code</th>\n",
       "      <th>Domain</th>\n",
       "      <th>Area Code (M49)</th>\n",
       "      <th>Area</th>\n",
       "      <th>Element Code</th>\n",
       "      <th>Element</th>\n",
       "      <th>Item Code (CPC)</th>\n",
       "      <th>Item</th>\n",
       "      <th>Year Code</th>\n",
       "      <th>Year</th>\n",
       "      <th>Unit</th>\n",
       "      <th>Value</th>\n",
       "      <th>Flag</th>\n",
       "      <th>Flag Description</th>\n",
       "      <th>Note</th>\n",
       "    </tr>\n",
       "  </thead>\n",
       "  <tbody>\n",
       "    <tr>\n",
       "      <th>0</th>\n",
       "      <td>QCL</td>\n",
       "      <td>Crops and livestock products</td>\n",
       "      <td>404</td>\n",
       "      <td>Kenya</td>\n",
       "      <td>5510</td>\n",
       "      <td>Production</td>\n",
       "      <td>2960.01</td>\n",
       "      <td>Beeswax</td>\n",
       "      <td>2021</td>\n",
       "      <td>2021</td>\n",
       "      <td>t</td>\n",
       "      <td>2596.80</td>\n",
       "      <td>I</td>\n",
       "      <td>Imputed value</td>\n",
       "      <td>NaN</td>\n",
       "    </tr>\n",
       "    <tr>\n",
       "      <th>1</th>\n",
       "      <td>QCL</td>\n",
       "      <td>Crops and livestock products</td>\n",
       "      <td>404</td>\n",
       "      <td>Kenya</td>\n",
       "      <td>5510</td>\n",
       "      <td>Production</td>\n",
       "      <td>2960.01</td>\n",
       "      <td>Beeswax</td>\n",
       "      <td>2022</td>\n",
       "      <td>2022</td>\n",
       "      <td>t</td>\n",
       "      <td>2605.43</td>\n",
       "      <td>I</td>\n",
       "      <td>Imputed value</td>\n",
       "      <td>NaN</td>\n",
       "    </tr>\n",
       "    <tr>\n",
       "      <th>2</th>\n",
       "      <td>QCL</td>\n",
       "      <td>Crops and livestock products</td>\n",
       "      <td>404</td>\n",
       "      <td>Kenya</td>\n",
       "      <td>5510</td>\n",
       "      <td>Production</td>\n",
       "      <td>2960.01</td>\n",
       "      <td>Beeswax</td>\n",
       "      <td>2023</td>\n",
       "      <td>2023</td>\n",
       "      <td>t</td>\n",
       "      <td>2614.06</td>\n",
       "      <td>I</td>\n",
       "      <td>Imputed value</td>\n",
       "      <td>NaN</td>\n",
       "    </tr>\n",
       "    <tr>\n",
       "      <th>3</th>\n",
       "      <td>QCL</td>\n",
       "      <td>Crops and livestock products</td>\n",
       "      <td>404</td>\n",
       "      <td>Kenya</td>\n",
       "      <td>5510</td>\n",
       "      <td>Production</td>\n",
       "      <td>22241.01</td>\n",
       "      <td>Butter of cow milk</td>\n",
       "      <td>2021</td>\n",
       "      <td>2021</td>\n",
       "      <td>t</td>\n",
       "      <td>19158.81</td>\n",
       "      <td>I</td>\n",
       "      <td>Imputed value</td>\n",
       "      <td>NaN</td>\n",
       "    </tr>\n",
       "    <tr>\n",
       "      <th>4</th>\n",
       "      <td>QCL</td>\n",
       "      <td>Crops and livestock products</td>\n",
       "      <td>404</td>\n",
       "      <td>Kenya</td>\n",
       "      <td>5510</td>\n",
       "      <td>Production</td>\n",
       "      <td>22241.01</td>\n",
       "      <td>Butter of cow milk</td>\n",
       "      <td>2022</td>\n",
       "      <td>2022</td>\n",
       "      <td>t</td>\n",
       "      <td>17460.28</td>\n",
       "      <td>I</td>\n",
       "      <td>Imputed value</td>\n",
       "      <td>NaN</td>\n",
       "    </tr>\n",
       "  </tbody>\n",
       "</table>\n",
       "</div>"
      ],
      "text/plain": [
       "  Domain Code                        Domain  Area Code (M49)   Area  \\\n",
       "0         QCL  Crops and livestock products              404  Kenya   \n",
       "1         QCL  Crops and livestock products              404  Kenya   \n",
       "2         QCL  Crops and livestock products              404  Kenya   \n",
       "3         QCL  Crops and livestock products              404  Kenya   \n",
       "4         QCL  Crops and livestock products              404  Kenya   \n",
       "\n",
       "   Element Code     Element  Item Code (CPC)                Item  Year Code  \\\n",
       "0          5510  Production          2960.01             Beeswax       2021   \n",
       "1          5510  Production          2960.01             Beeswax       2022   \n",
       "2          5510  Production          2960.01             Beeswax       2023   \n",
       "3          5510  Production         22241.01  Butter of cow milk       2021   \n",
       "4          5510  Production         22241.01  Butter of cow milk       2022   \n",
       "\n",
       "   Year Unit     Value Flag Flag Description  Note  \n",
       "0  2021    t   2596.80    I    Imputed value   NaN  \n",
       "1  2022    t   2605.43    I    Imputed value   NaN  \n",
       "2  2023    t   2614.06    I    Imputed value   NaN  \n",
       "3  2021    t  19158.81    I    Imputed value   NaN  \n",
       "4  2022    t  17460.28    I    Imputed value   NaN  "
      ]
     },
     "execution_count": 6,
     "metadata": {},
     "output_type": "execute_result"
    }
   ],
   "source": [
    "#load dataset\n",
    "data = pd.read_csv('C:/Users/Owinyez/OneDrive/Documentos/Projos/Research Analysis/FAOSTAT_data_en_6-30-2025.csv')\n",
    "\n",
    "#display sample\n",
    "data.head()"
   ]
  },
  {
   "cell_type": "markdown",
   "id": "0cfb5be8-b383-417e-b0cb-2e820de31be5",
   "metadata": {},
   "source": [
    "1.1 Exploring the dataset"
   ]
  },
  {
   "cell_type": "code",
   "execution_count": 9,
   "id": "62027dd6-a93f-42ad-b727-2528fd533329",
   "metadata": {},
   "outputs": [
    {
     "data": {
      "text/plain": [
       "(216, 15)"
      ]
     },
     "execution_count": 9,
     "metadata": {},
     "output_type": "execute_result"
    }
   ],
   "source": [
    "#number of rows and columns\n",
    "data.shape"
   ]
  },
  {
   "cell_type": "code",
   "execution_count": 10,
   "id": "e103db74-96fb-412f-abd9-a5b5e205a7e2",
   "metadata": {},
   "outputs": [
    {
     "name": "stdout",
     "output_type": "stream",
     "text": [
      "<class 'pandas.core.frame.DataFrame'>\n",
      "RangeIndex: 216 entries, 0 to 215\n",
      "Data columns (total 15 columns):\n",
      " #   Column            Non-Null Count  Dtype  \n",
      "---  ------            --------------  -----  \n",
      " 0   Domain Code       216 non-null    object \n",
      " 1   Domain            216 non-null    object \n",
      " 2   Area Code (M49)   216 non-null    int64  \n",
      " 3   Area              216 non-null    object \n",
      " 4   Element Code      216 non-null    int64  \n",
      " 5   Element           216 non-null    object \n",
      " 6   Item Code (CPC)   216 non-null    float64\n",
      " 7   Item              216 non-null    object \n",
      " 8   Year Code         216 non-null    int64  \n",
      " 9   Year              216 non-null    int64  \n",
      " 10  Unit              216 non-null    object \n",
      " 11  Value             216 non-null    float64\n",
      " 12  Flag              216 non-null    object \n",
      " 13  Flag Description  216 non-null    object \n",
      " 14  Note              0 non-null      float64\n",
      "dtypes: float64(3), int64(4), object(8)\n",
      "memory usage: 25.4+ KB\n"
     ]
    }
   ],
   "source": [
    "#data types and null values\n",
    "data.info()"
   ]
  },
  {
   "cell_type": "code",
   "execution_count": 11,
   "id": "52a379f6-6590-46ec-9b20-5e108a45106f",
   "metadata": {},
   "outputs": [
    {
     "data": {
      "text/plain": [
       "9"
      ]
     },
     "execution_count": 11,
     "metadata": {},
     "output_type": "execute_result"
    }
   ],
   "source": [
    "#check unique values in Elemet Code\n",
    "data['Element Code'].nunique()"
   ]
  },
  {
   "cell_type": "markdown",
   "id": "562b624e-d8a1-4c04-a1d2-ab9adad5e558",
   "metadata": {},
   "source": [
    "9 Element Codes"
   ]
  },
  {
   "cell_type": "code",
   "execution_count": 12,
   "id": "ab42cde4-057a-48b4-8e29-26fb5a63ab99",
   "metadata": {},
   "outputs": [
    {
     "data": {
      "text/plain": [
       "Production                       114\n",
       "Producing Animals/Slaughtered     60\n",
       "Yield/Carcass Weight              24\n",
       "Milk Animals                      12\n",
       "Yield                              3\n",
       "Laying                             3\n",
       "Name: Element, dtype: int64"
      ]
     },
     "execution_count": 12,
     "metadata": {},
     "output_type": "execute_result"
    }
   ],
   "source": [
    "#check the elemets\n",
    "data['Element'].value_counts()"
   ]
  },
  {
   "cell_type": "code",
   "execution_count": 13,
   "id": "adab91b6-5732-45c9-87b9-d5708652f0c5",
   "metadata": {},
   "outputs": [
    {
     "data": {
      "text/plain": [
       "41"
      ]
     },
     "execution_count": 13,
     "metadata": {},
     "output_type": "execute_result"
    }
   ],
   "source": [
    "#check unique value in Item Code (CPC)\n",
    "data['Item Code (CPC)'].nunique()"
   ]
  },
  {
   "cell_type": "markdown",
   "id": "889b173c-54cb-4656-b8a2-1e0b34499f16",
   "metadata": {},
   "source": [
    "41 unique item codes"
   ]
  },
  {
   "cell_type": "code",
   "execution_count": 14,
   "id": "b396ce4d-0a60-4b31-90f3-604de507a6db",
   "metadata": {},
   "outputs": [
    {
     "data": {
      "text/plain": [
       "Hen eggs in shell, fresh                                                15\n",
       "Meat of goat, fresh or chilled                                           9\n",
       "Meat of sheep, fresh or chilled                                          9\n",
       "Meat of rabbits and hares, fresh or chilled                              9\n",
       "Meat of pig with the bone, fresh or chilled                              9\n",
       "Meat of chickens, fresh or chilled                                       9\n",
       "Meat of cattle with the bone, fresh or chilled                           9\n",
       "Meat of camels, fresh or chilled                                         9\n",
       "Raw hides and skins of cattle                                            6\n",
       "Raw hides and skins of sheep or lambs                                    6\n",
       "Raw milk of camel                                                        6\n",
       "Goat fat, unrendered                                                     6\n",
       "Raw milk of cattle                                                       6\n",
       "Raw milk of goats                                                        6\n",
       "Fat of pigs                                                              6\n",
       "Fat of camels                                                            6\n",
       "Edible offals of camels and other camelids, fresh, chilled or frozen     6\n",
       "Edible offal of sheep, fresh, chilled or frozen                          6\n",
       "Edible offal of pigs, fresh, chilled or frozen                           6\n",
       "Edible offal of goat, fresh, chilled or frozen                           6\n",
       "Edible offal of cattle, fresh, chilled or frozen                         6\n",
       "Raw milk of sheep                                                        6\n",
       "Sheep fat, unrendered                                                    6\n",
       "Cattle fat, unrendered                                                   6\n",
       "Raw hides and skins of goats or kids                                     6\n",
       "Shorn wool, greasy, including fleece-washed shorn wool                   3\n",
       "Beeswax                                                                  3\n",
       "Natural honey                                                            3\n",
       "Game meat, fresh, chilled or frozen                                      3\n",
       "Pig fat, rendered                                                        2\n",
       "Butter of cow milk                                                       2\n",
       "Ghee from cow milk                                                       2\n",
       "Cream, fresh                                                             2\n",
       "Cheese from whole cow milk                                               2\n",
       "Buttermilk, dry                                                          2\n",
       "Skim milk and whey powder                                                2\n",
       "Skim milk of cows                                                        2\n",
       "Tallow                                                                   2\n",
       "Whole milk powder                                                        2\n",
       "Whole milk, condensed                                                    2\n",
       "Whole milk, evaporated                                                   2\n",
       "Name: Item, dtype: int64"
      ]
     },
     "execution_count": 14,
     "metadata": {},
     "output_type": "execute_result"
    }
   ],
   "source": [
    "#check the items\n",
    "data['Item'].value_counts()"
   ]
  },
  {
   "cell_type": "code",
   "execution_count": 15,
   "id": "925409bb-e93f-4fe3-be55-6dd65026283e",
   "metadata": {},
   "outputs": [
    {
     "data": {
      "text/plain": [
       "I    106\n",
       "A     81\n",
       "E     29\n",
       "Name: Flag, dtype: int64"
      ]
     },
     "execution_count": 15,
     "metadata": {},
     "output_type": "execute_result"
    }
   ],
   "source": [
    "#check flags\n",
    "data['Flag'].value_counts()"
   ]
  },
  {
   "cell_type": "code",
   "execution_count": 16,
   "id": "441b03b7-a529-4db2-9e82-306e42381260",
   "metadata": {},
   "outputs": [
    {
     "data": {
      "text/plain": [
       "Imputed value      106\n",
       "Official figure     81\n",
       "Estimated value     29\n",
       "Name: Flag Description, dtype: int64"
      ]
     },
     "execution_count": 16,
     "metadata": {},
     "output_type": "execute_result"
    }
   ],
   "source": [
    "#check flag description\n",
    "data['Flag Description'].value_counts()"
   ]
  },
  {
   "cell_type": "markdown",
   "id": "6e214b19-6d84-4956-9826-55d540bc7f6a",
   "metadata": {},
   "source": [
    "2. Data Cleaning"
   ]
  },
  {
   "cell_type": "markdown",
   "id": "273c17a2-9a7a-4538-a681-08d2e3f165af",
   "metadata": {},
   "source": [
    "2.1 Handling Missing Values"
   ]
  },
  {
   "cell_type": "code",
   "execution_count": 18,
   "id": "77997bdd-a3c9-4c16-8f6e-7968fd75f3ad",
   "metadata": {},
   "outputs": [
    {
     "data": {
      "text/plain": [
       "Domain Code           0\n",
       "Domain                0\n",
       "Area Code (M49)       0\n",
       "Area                  0\n",
       "Element Code          0\n",
       "Element               0\n",
       "Item Code (CPC)       0\n",
       "Item                  0\n",
       "Year Code             0\n",
       "Year                  0\n",
       "Unit                  0\n",
       "Value                 0\n",
       "Flag                  0\n",
       "Flag Description      0\n",
       "Note                216\n",
       "dtype: int64"
      ]
     },
     "execution_count": 18,
     "metadata": {},
     "output_type": "execute_result"
    }
   ],
   "source": [
    "data.isnull().sum()"
   ]
  },
  {
   "cell_type": "markdown",
   "id": "6ad043fc-df1e-4baa-9023-29b4453bde35",
   "metadata": {},
   "source": [
    "The Column \"Note\" is empty, drop columns\n",
    "Other columns to drop:'Domain Code', 'Domain', 'Area Code (M49)', 'Area', 'Year Code'\n"
   ]
  },
  {
   "cell_type": "raw",
   "id": "a27774e9-e65b-48dc-9fe6-0d32f6663efb",
   "metadata": {},
   "source": [
    "data.drop(columns=[\n",
    "    'Domain Code', 'Domain', 'Area Code (M49)', 'Area', 'Year Code', 'Note'\n",
    "], inplace=True)"
   ]
  },
  {
   "cell_type": "markdown",
   "id": "6fb97173-ab78-479f-80de-d9a1a608ee1b",
   "metadata": {},
   "source": [
    "2.1 Dealing with Duplicates"
   ]
  },
  {
   "cell_type": "code",
   "execution_count": 27,
   "id": "77277dc8-1b4d-4a39-b42e-5827ad91966a",
   "metadata": {},
   "outputs": [
    {
     "name": "stdout",
     "output_type": "stream",
     "text": [
      "Number of duplicate rows: 0      False\n",
      "1      False\n",
      "2      False\n",
      "3      False\n",
      "4      False\n",
      "       ...  \n",
      "211    False\n",
      "212    False\n",
      "213    False\n",
      "214    False\n",
      "215    False\n",
      "Length: 216, dtype: bool\n"
     ]
    }
   ],
   "source": [
    "#check duplicate rows based on all columns\n",
    "print(f\"Number of duplicate rows: {data.duplicated()}\")"
   ]
  },
  {
   "cell_type": "markdown",
   "id": "d3b10810-6ab5-41ce-906d-997ba14db6a1",
   "metadata": {},
   "source": [
    "No duplicates"
   ]
  },
  {
   "cell_type": "code",
   "execution_count": 29,
   "id": "2aa8de61-3281-4ee4-afa4-3014ae3ec478",
   "metadata": {},
   "outputs": [],
   "source": [
    "#save the clean dataset to new CSV\n",
    "data.to_csv('C:/Users/Owinyez/OneDrive/Documentos/Projos/Research Analysis/FOSTAS Data Cleaned.csv')"
   ]
  },
  {
   "cell_type": "code",
   "execution_count": null,
   "id": "f87eacee-14f0-41a3-83b5-df5d2d6abab7",
   "metadata": {},
   "outputs": [],
   "source": []
  }
 ],
 "metadata": {
  "kernelspec": {
   "display_name": "Python 3 (ipykernel)",
   "language": "python",
   "name": "python3"
  },
  "language_info": {
   "codemirror_mode": {
    "name": "ipython",
    "version": 3
   },
   "file_extension": ".py",
   "mimetype": "text/x-python",
   "name": "python",
   "nbconvert_exporter": "python",
   "pygments_lexer": "ipython3",
   "version": "3.10.9"
  }
 },
 "nbformat": 4,
 "nbformat_minor": 5
}
